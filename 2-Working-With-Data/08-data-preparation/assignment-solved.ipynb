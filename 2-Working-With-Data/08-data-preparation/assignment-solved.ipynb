{
  "cells": [
    {
      "cell_type": "markdown",
      "source": [],
      "metadata": {
        "id": "Px6E7TKfUQnf"
      }
    },
    {
      "cell_type": "markdown",
      "source": [
        "# Assignment: Evaluating Data from a Form\n",
        "\n",
        "A client has been testing a [small form](index.html) to gather some basic data about their client-base. They have brought their findings to you to validate the data they have gathered. You can open the `index.html` page in a browser to take a look at the form.\n",
        "\n",
        "You have been provided a [dataset of csv records](../../data/form.csv) that contain entries from the form as well as some basic visualizations.The client pointed out that some of the visualizations look incorrect but they're unsure about how to resolve them. You can explore it in the [assignment notebook](assignment.ipynb).\n",
        "\n",
        "## Instructions\n",
        "\n",
        "Use the techniques in this lesson to make recommendations about the form so it captures accurate and consistent information."
      ],
      "metadata": {
        "id": "oQOcV_FlUQng"
      }
    },
    {
      "cell_type": "code",
      "execution_count": 1,
      "source": [
        "!pip install pandas\n",
        "!pip install matplotlib"
      ],
      "outputs": [
        {
          "output_type": "stream",
          "name": "stdout",
          "text": [
            "Requirement already satisfied: pandas in /usr/local/lib/python3.10/dist-packages (2.1.4)\n",
            "Requirement already satisfied: numpy<2,>=1.22.4 in /usr/local/lib/python3.10/dist-packages (from pandas) (1.26.4)\n",
            "Requirement already satisfied: python-dateutil>=2.8.2 in /usr/local/lib/python3.10/dist-packages (from pandas) (2.8.2)\n",
            "Requirement already satisfied: pytz>=2020.1 in /usr/local/lib/python3.10/dist-packages (from pandas) (2024.2)\n",
            "Requirement already satisfied: tzdata>=2022.1 in /usr/local/lib/python3.10/dist-packages (from pandas) (2024.1)\n",
            "Requirement already satisfied: six>=1.5 in /usr/local/lib/python3.10/dist-packages (from python-dateutil>=2.8.2->pandas) (1.16.0)\n",
            "Requirement already satisfied: matplotlib in /usr/local/lib/python3.10/dist-packages (3.7.1)\n",
            "Requirement already satisfied: contourpy>=1.0.1 in /usr/local/lib/python3.10/dist-packages (from matplotlib) (1.3.0)\n",
            "Requirement already satisfied: cycler>=0.10 in /usr/local/lib/python3.10/dist-packages (from matplotlib) (0.12.1)\n",
            "Requirement already satisfied: fonttools>=4.22.0 in /usr/local/lib/python3.10/dist-packages (from matplotlib) (4.53.1)\n",
            "Requirement already satisfied: kiwisolver>=1.0.1 in /usr/local/lib/python3.10/dist-packages (from matplotlib) (1.4.7)\n",
            "Requirement already satisfied: numpy>=1.20 in /usr/local/lib/python3.10/dist-packages (from matplotlib) (1.26.4)\n",
            "Requirement already satisfied: packaging>=20.0 in /usr/local/lib/python3.10/dist-packages (from matplotlib) (24.1)\n",
            "Requirement already satisfied: pillow>=6.2.0 in /usr/local/lib/python3.10/dist-packages (from matplotlib) (10.4.0)\n",
            "Requirement already satisfied: pyparsing>=2.3.1 in /usr/local/lib/python3.10/dist-packages (from matplotlib) (3.1.4)\n",
            "Requirement already satisfied: python-dateutil>=2.7 in /usr/local/lib/python3.10/dist-packages (from matplotlib) (2.8.2)\n",
            "Requirement already satisfied: six>=1.5 in /usr/local/lib/python3.10/dist-packages (from python-dateutil>=2.7->matplotlib) (1.16.0)\n"
          ]
        }
      ],
      "metadata": {
        "id": "7MLXOfW8UQnh",
        "outputId": "b3d07979-d238-44f7-fc2a-482b69a3cbd9",
        "colab": {
          "base_uri": "https://localhost:8080/"
        }
      }
    },
    {
      "cell_type": "code",
      "execution_count": 14,
      "source": [
        "import pandas as pd\n",
        "import matplotlib.pyplot as plt\n",
        "\n",
        "#Loading the dataset\n",
        "path = 'https://raw.githubusercontent.com/microsoft/Data-Science-For-Beginners/main/data/form.csv'\n",
        "form_df = pd.read_csv(path)\n",
        "print(form_df)"
      ],
      "outputs": [
        {
          "output_type": "stream",
          "name": "stdout",
          "text": [
            "  birth_month       state   pet\n",
            "0     January         NaN  Cats\n",
            "1         JAN          CA  Cats\n",
            "2        Sept      Hawaii   Dog\n",
            "3     january          AK   Dog\n",
            "4        July          RI  Cats\n",
            "5   September  California  Cats\n",
            "6       April          CA   Dog\n",
            "7     January  California  Cats\n",
            "8    November          FL   Dog\n",
            "9    December     Florida  Cats\n"
          ]
        }
      ],
      "metadata": {
        "id": "buq46KmaUQni",
        "outputId": "a9ccd393-9825-48d1-e9e0-5a113e0d8320",
        "colab": {
          "base_uri": "https://localhost:8080/"
        }
      }
    },
    {
      "cell_type": "code",
      "source": [
        "state_names = {'California': 'CA', 'Florida': 'FL', 'Hawaii': 'HI'}\n",
        "form_df['state'] = form_df['state'].replace(state_names)\n",
        "form_df['birth_month'] = form_df['birth_month'].str.capitalize()\n",
        "months = {'Jan': 'January', 'Sept': 'Septemper'}\n",
        "form_df['birth_month'] = form_df['birth_month'].replace(months)\n",
        "form_df['state'].fillna('Unknown', inplace=True)\n",
        "form_df['birth_month'].fillna('Unknown', inplace=True)\n",
        "print(form_df)"
      ],
      "metadata": {
        "id": "mQ229jyBW8em",
        "outputId": "d202ff6c-c2d1-42c7-b8e4-3ba4b1541619",
        "colab": {
          "base_uri": "https://localhost:8080/"
        }
      },
      "execution_count": 18,
      "outputs": [
        {
          "output_type": "stream",
          "name": "stdout",
          "text": [
            "  birth_month    state   pet\n",
            "0     January  Unknown  Cats\n",
            "1     January       CA  Cats\n",
            "2   Septemper       HI   Dog\n",
            "3     January       AK   Dog\n",
            "4        July       RI  Cats\n",
            "5   September       CA  Cats\n",
            "6       April       CA   Dog\n",
            "7     January       CA  Cats\n",
            "8    November       FL   Dog\n",
            "9    December       FL  Cats\n"
          ]
        }
      ]
    },
    {
      "cell_type": "code",
      "execution_count": 19,
      "source": [
        "form_df['state'].value_counts().plot(kind='bar');\n",
        "plt.show()"
      ],
      "outputs": [
        {
          "output_type": "display_data",
          "data": {
            "text/plain": [
              "<Figure size 640x480 with 1 Axes>"
            ],
            "image/png": "[encoded data removed]"
          },
          "metadata": {}
        }
      ],
      "metadata": {
        "id": "dswEjteyUQnj",
        "outputId": "bd173878-6764-4c5a-ef82-d098a08be87e",
        "colab": {
          "base_uri": "https://localhost:8080/",
          "height": 500
        }
      }
    },
    {
      "cell_type": "code",
      "execution_count": 20,
      "source": [
        "form_df['birth_month'].value_counts().plot(kind='bar');\n",
        "plt.show()"
      ],
      "outputs": [
        {
          "output_type": "display_data",
          "data": {
            "text/plain": [
              "<Figure size 640x480 with 1 Axes>"
            ],
            "image/png": "[encoded data removed]"
          },
          "metadata": {}
        }
      ],
      "metadata": {
        "id": "T4BKVjYWUQnk",
        "outputId": "0c7b5cea-f164-4940-c294-b06c919c327b",
        "colab": {
          "base_uri": "https://localhost:8080/",
          "height": 512
        }
      }
    },
    {
      "cell_type": "markdown",
      "source": [],
      "metadata": {
        "id": "d8rtTJikUQnk"
      }
    }
  ],
  "metadata": {
    "orig_nbformat": 4,
    "language_info": {
      "name": "python",
      "version": "3.9.7",
      "mimetype": "text/x-python",
      "codemirror_mode": {
        "name": "ipython",
        "version": 3
      },
      "pygments_lexer": "ipython3",
      "nbconvert_exporter": "python",
      "file_extension": ".py"
    },
    "kernelspec": {
      "name": "python3",
      "display_name": "Python 3.9.7 64-bit ('venv': venv)"
    },
    "interpreter": {
      "hash": "6b9b57232c4b57163d057191678da2030059e733b8becc68f245de5a75abe84e"
    },
    "colab": {
      "provenance": []
    }
  },
  "nbformat": 4,
  "nbformat_minor": 0
}