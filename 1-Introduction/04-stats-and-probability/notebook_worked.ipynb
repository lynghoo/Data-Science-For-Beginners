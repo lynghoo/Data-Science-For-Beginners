{
  "cells": [
    {
      "cell_type": "markdown",
      "metadata": {
        "id": "rmktdCRmWEA-"
      },
      "source": [
        "# Introduction to Probability and Statistics\n",
        "In this notebook, we will play around with some of the concepts we have previously discussed. Many concepts from probability and statistics are well-represented in major libraries for data processing in Python, such as `numpy` and `pandas`."
      ]
    },
    {
      "cell_type": "code",
      "execution_count": 1,
      "metadata": {
        "id": "sohxqTLVWEBA"
      },
      "outputs": [],
      "source": [
        "import numpy as np\n",
        "import pandas as pd\n",
        "import random\n",
        "import matplotlib.pyplot as plt"
      ]
    },
    {
      "cell_type": "markdown",
      "metadata": {
        "id": "RV5kbKAdWEBB"
      },
      "source": [
        "## Random Variables and Distributions\n",
        "Let's start with drawing a sample of 30 values from a uniform distribution from 0 to 9. We will also compute mean and variance."
      ]
    },
    {
      "cell_type": "code",
      "execution_count": 2,
      "metadata": {
        "colab": {
          "base_uri": "https://localhost:8080/"
        },
        "id": "jLpOh608WEBC",
        "outputId": "247e8cb2-c88f-4cc7-ff75-85802f9db8b1"
      },
      "outputs": [
        {
          "output_type": "stream",
          "name": "stdout",
          "text": [
            "Sample: [2, 5, 3, 1, 3, 0, 9, 0, 2, 2, 1, 6, 10, 3, 10, 7, 10, 4, 3, 3, 9, 6, 3, 6, 2, 9, 10, 4, 10, 1]\n",
            "Mean = 4.8\n",
            "Variance = 11.293333333333333\n"
          ]
        }
      ],
      "source": [
        "sample = [ random.randint(0,10) for _ in range(30) ]\n",
        "print(f\"Sample: {sample}\")\n",
        "print(f\"Mean = {np.mean(sample)}\")\n",
        "print(f\"Variance = {np.var(sample)}\")"
      ]
    },
    {
      "cell_type": "markdown",
      "metadata": {
        "id": "OCXL6wTbWEBC"
      },
      "source": [
        "To visually estimate how many different values are there in the sample, we can plot the **histogram**:"
      ]
    },
    {
      "cell_type": "code",
      "execution_count": 3,
      "metadata": {
        "colab": {
          "base_uri": "https://localhost:8080/",
          "height": 430
        },
        "id": "IZqbEYQ7WEBD",
        "outputId": "817c0fa2-b6b7-4080-b2bd-347311ff3749"
      },
      "outputs": [
        {
          "output_type": "display_data",
          "data": {
            "text/plain": [
              "<Figure size 640x480 with 1 Axes>"
            ],
            "image/png": "[encoded data removed]"
          },
          "metadata": {}
        }
      ],
      "source": [
        "plt.hist(sample)\n",
        "plt.show()"
      ]
    },
    {
      "cell_type": "markdown",
      "metadata": {
        "id": "mOGvJehvWEBD"
      },
      "source": [
        "## Analyzing Real Data\n",
        "\n",
        "Mean and variance are very important when analyzing real-world data. Let's load the data about baseball players from [SOCR MLB Height/Weight Data](http://wiki.stat.ucla.edu/socr/index.php/SOCR_Data_MLB_HeightsWeights)"
      ]
    },
    {
      "cell_type": "code",
      "execution_count": 10,
      "metadata": {
        "colab": {
          "base_uri": "https://localhost:8080/",
          "height": 424
        },
        "id": "G8nELeqUWEBD",
        "outputId": "ea09e865-8283-4a56-b5fe-9e1dc5ceee8c"
      },
      "outputs": [
        {
          "output_type": "execute_result",
          "data": {
            "text/plain": [
              "                 Name Team            Role  Height  Weight    Age\n",
              "0       Adam_Donachie  BAL         Catcher      74   180.0  22.99\n",
              "1           Paul_Bako  BAL         Catcher      74   215.0  34.69\n",
              "2     Ramon_Hernandez  BAL         Catcher      72   210.0  30.78\n",
              "3        Kevin_Millar  BAL   First_Baseman      72   210.0  35.43\n",
              "4         Chris_Gomez  BAL   First_Baseman      73   188.0  35.71\n",
              "...               ...  ...             ...     ...     ...    ...\n",
              "1029    Brad_Thompson  STL  Relief_Pitcher      73   190.0  25.08\n",
              "1030    Tyler_Johnson  STL  Relief_Pitcher      74   180.0  25.73\n",
              "1031   Chris_Narveson  STL  Relief_Pitcher      75   205.0  25.19\n",
              "1032    Randy_Keisler  STL  Relief_Pitcher      75   190.0  31.01\n",
              "1033      Josh_Kinney  STL  Relief_Pitcher      73   195.0  27.92\n",
              "\n",
              "[1034 rows x 6 columns]"
            ],
            "text/html": [
              "\n",
              "  <div id=\"df-e52ce3be-353d-4171-b4e2-191579007ec8\" class=\"colab-df-container\">\n",
              "    <div>\n",
              "<style scoped>\n",
              "    .dataframe tbody tr th:only-of-type {\n",
              "        vertical-align: middle;\n",
              "    }\n",
              "\n",
              "    .dataframe tbody tr th {\n",
              "        vertical-align: top;\n",
              "    }\n",
              "\n",
              "    .dataframe thead th {\n",
              "        text-align: right;\n",
              "    }\n",
              "</style>\n",
              "<table border=\"1\" class=\"dataframe\">\n",
              "  <thead>\n",
              "    <tr style=\"text-align: right;\">\n",
              "      <th></th>\n",
              "      <th>Name</th>\n",
              "      <th>Team</th>\n",
              "      <th>Role</th>\n",
              "      <th>Height</th>\n",
              "      <th>Weight</th>\n",
              "      <th>Age</th>\n",
              "    </tr>\n",
              "  </thead>\n",
              "  <tbody>\n",
              "    <tr>\n",
              "      <th>0</th>\n",
              "      <td>Adam_Donachie</td>\n",
              "      <td>BAL</td>\n",
              "      <td>Catcher</td>\n",
              "      <td>74</td>\n",
              "      <td>180.0</td>\n",
              "      <td>22.99</td>\n",
              "    </tr>\n",
              "    <tr>\n",
              "      <th>1</th>\n",
              "      <td>Paul_Bako</td>\n",
              "      <td>BAL</td>\n",
              "      <td>Catcher</td>\n",
              "      <td>74</td>\n",
              "      <td>215.0</td>\n",
              "      <td>34.69</td>\n",
              "    </tr>\n",
              "    <tr>\n",
              "      <th>2</th>\n",
              "      <td>Ramon_Hernandez</td>\n",
              "      <td>BAL</td>\n",
              "      <td>Catcher</td>\n",
              "      <td>72</td>\n",
              "      <td>210.0</td>\n",
              "      <td>30.78</td>\n",
              "    </tr>\n",
              "    <tr>\n",
              "      <th>3</th>\n",
              "      <td>Kevin_Millar</td>\n",
              "      <td>BAL</td>\n",
              "      <td>First_Baseman</td>\n",
              "      <td>72</td>\n",
              "      <td>210.0</td>\n",
              "      <td>35.43</td>\n",
              "    </tr>\n",
              "    <tr>\n",
              "      <th>4</th>\n",
              "      <td>Chris_Gomez</td>\n",
              "      <td>BAL</td>\n",
              "      <td>First_Baseman</td>\n",
              "      <td>73</td>\n",
              "      <td>188.0</td>\n",
              "      <td>35.71</td>\n",
              "    </tr>\n",
              "    <tr>\n",
              "      <th>...</th>\n",
              "      <td>...</td>\n",
              "      <td>...</td>\n",
              "      <td>...</td>\n",
              "      <td>...</td>\n",
              "      <td>...</td>\n",
              "      <td>...</td>\n",
              "    </tr>\n",
              "    <tr>\n",
              "      <th>1029</th>\n",
              "      <td>Brad_Thompson</td>\n",
              "      <td>STL</td>\n",
              "      <td>Relief_Pitcher</td>\n",
              "      <td>73</td>\n",
              "      <td>190.0</td>\n",
              "      <td>25.08</td>\n",
              "    </tr>\n",
              "    <tr>\n",
              "      <th>1030</th>\n",
              "      <td>Tyler_Johnson</td>\n",
              "      <td>STL</td>\n",
              "      <td>Relief_Pitcher</td>\n",
              "      <td>74</td>\n",
              "      <td>180.0</td>\n",
              "      <td>25.73</td>\n",
              "    </tr>\n",
              "    <tr>\n",
              "      <th>1031</th>\n",
              "      <td>Chris_Narveson</td>\n",
              "      <td>STL</td>\n",
              "      <td>Relief_Pitcher</td>\n",
              "      <td>75</td>\n",
              "      <td>205.0</td>\n",
              "      <td>25.19</td>\n",
              "    </tr>\n",
              "    <tr>\n",
              "      <th>1032</th>\n",
              "      <td>Randy_Keisler</td>\n",
              "      <td>STL</td>\n",
              "      <td>Relief_Pitcher</td>\n",
              "      <td>75</td>\n",
              "      <td>190.0</td>\n",
              "      <td>31.01</td>\n",
              "    </tr>\n",
              "    <tr>\n",
              "      <th>1033</th>\n",
              "      <td>Josh_Kinney</td>\n",
              "      <td>STL</td>\n",
              "      <td>Relief_Pitcher</td>\n",
              "      <td>73</td>\n",
              "      <td>195.0</td>\n",
              "      <td>27.92</td>\n",
              "    </tr>\n",
              "  </tbody>\n",
              "</table>\n",
              "<p>1034 rows × 6 columns</p>\n",
              "</div>\n",
              "    <div class=\"colab-df-buttons\">\n",
              "\n",
              "  <div class=\"colab-df-container\">\n",
              "    <button class=\"colab-df-convert\" onclick=\"convertToInteractive('df-e52ce3be-353d-4171-b4e2-191579007ec8')\"\n",
              "            title=\"Convert this dataframe to an interactive table.\"\n",
              "            style=\"display:none;\">\n",
              "\n",
              "  <svg xmlns=\"http://www.w3.org/2000/svg\" height=\"24px\" viewBox=\"0 -960 960 960\">\n",
              "    <path d=\"M120-120v-720h720v720H120Zm60-500h600v-160H180v160Zm220 220h160v-160H400v160Zm0 220h160v-160H400v160ZM180-400h160v-160H180v160Zm440 0h160v-160H620v160ZM180-180h160v-160H180v160Zm440 0h160v-160H620v160Z\"/>\n",
              "  </svg>\n",
              "    </button>\n",
              "\n",
              "  <style>\n",
              "    .colab-df-container {\n",
              "      display:flex;\n",
              "      gap: 12px;\n",
              "    }\n",
              "\n",
              "    .colab-df-convert {\n",
              "      background-color: #E8F0FE;\n",
              "      border: none;\n",
              "      border-radius: 50%;\n",
              "      cursor: pointer;\n",
              "      display: none;\n",
              "      fill: #1967D2;\n",
              "      height: 32px;\n",
              "      padding: 0 0 0 0;\n",
              "      width: 32px;\n",
              "    }\n",
              "\n",
              "    .colab-df-convert:hover {\n",
              "      background-color: #E2EBFA;\n",
              "      box-shadow: 0px 1px 2px rgba(60, 64, 67, 0.3), 0px 1px 3px 1px rgba(60, 64, 67, 0.15);\n",
              "      fill: #174EA6;\n",
              "    }\n",
              "\n",
              "    .colab-df-buttons div {\n",
              "      margin-bottom: 4px;\n",
              "    }\n",
              "\n",
              "    [theme=dark] .colab-df-convert {\n",
              "      background-color: #3B4455;\n",
              "      fill: #D2E3FC;\n",
              "    }\n",
              "\n",
              "    [theme=dark] .colab-df-convert:hover {\n",
              "      background-color: #434B5C;\n",
              "      box-shadow: 0px 1px 3px 1px rgba(0, 0, 0, 0.15);\n",
              "      filter: drop-shadow(0px 1px 2px rgba(0, 0, 0, 0.3));\n",
              "      fill: #FFFFFF;\n",
              "    }\n",
              "  </style>\n",
              "\n",
              "    <script>\n",
              "      const buttonEl =\n",
              "        document.querySelector('#df-e52ce3be-353d-4171-b4e2-191579007ec8 button.colab-df-convert');\n",
              "      buttonEl.style.display =\n",
              "        google.colab.kernel.accessAllowed ? 'block' : 'none';\n",
              "\n",
              "      async function convertToInteractive(key) {\n",
              "        const element = document.querySelector('#df-e52ce3be-353d-4171-b4e2-191579007ec8');\n",
              "        const dataTable =\n",
              "          await google.colab.kernel.invokeFunction('convertToInteractive',\n",
              "                                                    [key], {});\n",
              "        if (!dataTable) return;\n",
              "\n",
              "        const docLinkHtml = 'Like what you see? Visit the ' +\n",
              "          '<a target=\"_blank\" href=https://colab.research.google.com/notebooks/data_table.ipynb>data table notebook</a>'\n",
              "          + ' to learn more about interactive tables.';\n",
              "        element.innerHTML = '';\n",
              "        dataTable['output_type'] = 'display_data';\n",
              "        await google.colab.output.renderOutput(dataTable, element);\n",
              "        const docLink = document.createElement('div');\n",
              "        docLink.innerHTML = docLinkHtml;\n",
              "        element.appendChild(docLink);\n",
              "      }\n",
              "    </script>\n",
              "  </div>\n",
              "\n",
              "\n",
              "<div id=\"df-13faf9c8-fa1c-4b52-afb4-87493cdf7515\">\n",
              "  <button class=\"colab-df-quickchart\" onclick=\"quickchart('df-13faf9c8-fa1c-4b52-afb4-87493cdf7515')\"\n",
              "            title=\"Suggest charts\"\n",
              "            style=\"display:none;\">\n",
              "\n",
              "<svg xmlns=\"http://www.w3.org/2000/svg\" height=\"24px\"viewBox=\"0 0 24 24\"\n",
              "     width=\"24px\">\n",
              "    <g>\n",
              "        <path d=\"M19 3H5c-1.1 0-2 .9-2 2v14c0 1.1.9 2 2 2h14c1.1 0 2-.9 2-2V5c0-1.1-.9-2-2-2zM9 17H7v-7h2v7zm4 0h-2V7h2v10zm4 0h-2v-4h2v4z\"/>\n",
              "    </g>\n",
              "</svg>\n",
              "  </button>\n",
              "\n",
              "<style>\n",
              "  .colab-df-quickchart {\n",
              "      --bg-color: #E8F0FE;\n",
              "      --fill-color: #1967D2;\n",
              "      --hover-bg-color: #E2EBFA;\n",
              "      --hover-fill-color: #174EA6;\n",
              "      --disabled-fill-color: #AAA;\n",
              "      --disabled-bg-color: #DDD;\n",
              "  }\n",
              "\n",
              "  [theme=dark] .colab-df-quickchart {\n",
              "      --bg-color: #3B4455;\n",
              "      --fill-color: #D2E3FC;\n",
              "      --hover-bg-color: #434B5C;\n",
              "      --hover-fill-color: #FFFFFF;\n",
              "      --disabled-bg-color: #3B4455;\n",
              "      --disabled-fill-color: #666;\n",
              "  }\n",
              "\n",
              "  .colab-df-quickchart {\n",
              "    background-color: var(--bg-color);\n",
              "    border: none;\n",
              "    border-radius: 50%;\n",
              "    cursor: pointer;\n",
              "    display: none;\n",
              "    fill: var(--fill-color);\n",
              "    height: 32px;\n",
              "    padding: 0;\n",
              "    width: 32px;\n",
              "  }\n",
              "\n",
              "  .colab-df-quickchart:hover {\n",
              "    background-color: var(--hover-bg-color);\n",
              "    box-shadow: 0 1px 2px rgba(60, 64, 67, 0.3), 0 1px 3px 1px rgba(60, 64, 67, 0.15);\n",
              "    fill: var(--button-hover-fill-color);\n",
              "  }\n",
              "\n",
              "  .colab-df-quickchart-complete:disabled,\n",
              "  .colab-df-quickchart-complete:disabled:hover {\n",
              "    background-color: var(--disabled-bg-color);\n",
              "    fill: var(--disabled-fill-color);\n",
              "    box-shadow: none;\n",
              "  }\n",
              "\n",
              "  .colab-df-spinner {\n",
              "    border: 2px solid var(--fill-color);\n",
              "    border-color: transparent;\n",
              "    border-bottom-color: var(--fill-color);\n",
              "    animation:\n",
              "      spin 1s steps(1) infinite;\n",
              "  }\n",
              "\n",
              "  @keyframes spin {\n",
              "    0% {\n",
              "      border-color: transparent;\n",
              "      border-bottom-color: var(--fill-color);\n",
              "      border-left-color: var(--fill-color);\n",
              "    }\n",
              "    20% {\n",
              "      border-color: transparent;\n",
              "      border-left-color: var(--fill-color);\n",
              "      border-top-color: var(--fill-color);\n",
              "    }\n",
              "    30% {\n",
              "      border-color: transparent;\n",
              "      border-left-color: var(--fill-color);\n",
              "      border-top-color: var(--fill-color);\n",
              "      border-right-color: var(--fill-color);\n",
              "    }\n",
              "    40% {\n",
              "      border-color: transparent;\n",
              "      border-right-color: var(--fill-color);\n",
              "      border-top-color: var(--fill-color);\n",
              "    }\n",
              "    60% {\n",
              "      border-color: transparent;\n",
              "      border-right-color: var(--fill-color);\n",
              "    }\n",
              "    80% {\n",
              "      border-color: transparent;\n",
              "      border-right-color: var(--fill-color);\n",
              "      border-bottom-color: var(--fill-color);\n",
              "    }\n",
              "    90% {\n",
              "      border-color: transparent;\n",
              "      border-bottom-color: var(--fill-color);\n",
              "    }\n",
              "  }\n",
              "</style>\n",
              "\n",
              "  <script>\n",
              "    async function quickchart(key) {\n",
              "      const quickchartButtonEl =\n",
              "        document.querySelector('#' + key + ' button');\n",
              "      quickchartButtonEl.disabled = true;  // To prevent multiple clicks.\n",
              "      quickchartButtonEl.classList.add('colab-df-spinner');\n",
              "      try {\n",
              "        const charts = await google.colab.kernel.invokeFunction(\n",
              "            'suggestCharts', [key], {});\n",
              "      } catch (error) {\n",
              "        console.error('Error during call to suggestCharts:', error);\n",
              "      }\n",
              "      quickchartButtonEl.classList.remove('colab-df-spinner');\n",
              "      quickchartButtonEl.classList.add('colab-df-quickchart-complete');\n",
              "    }\n",
              "    (() => {\n",
              "      let quickchartButtonEl =\n",
              "        document.querySelector('#df-13faf9c8-fa1c-4b52-afb4-87493cdf7515 button');\n",
              "      quickchartButtonEl.style.display =\n",
              "        google.colab.kernel.accessAllowed ? 'block' : 'none';\n",
              "    })();\n",
              "  </script>\n",
              "</div>\n",
              "\n",
              "  <div id=\"id_272fa65c-a951-49d0-8f22-e7cac5363f72\">\n",
              "    <style>\n",
              "      .colab-df-generate {\n",
              "        background-color: #E8F0FE;\n",
              "        border: none;\n",
              "        border-radius: 50%;\n",
              "        cursor: pointer;\n",
              "        display: none;\n",
              "        fill: #1967D2;\n",
              "        height: 32px;\n",
              "        padding: 0 0 0 0;\n",
              "        width: 32px;\n",
              "      }\n",
              "\n",
              "      .colab-df-generate:hover {\n",
              "        background-color: #E2EBFA;\n",
              "        box-shadow: 0px 1px 2px rgba(60, 64, 67, 0.3), 0px 1px 3px 1px rgba(60, 64, 67, 0.15);\n",
              "        fill: #174EA6;\n",
              "      }\n",
              "\n",
              "      [theme=dark] .colab-df-generate {\n",
              "        background-color: #3B4455;\n",
              "        fill: #D2E3FC;\n",
              "      }\n",
              "\n",
              "      [theme=dark] .colab-df-generate:hover {\n",
              "        background-color: #434B5C;\n",
              "        box-shadow: 0px 1px 3px 1px rgba(0, 0, 0, 0.15);\n",
              "        filter: drop-shadow(0px 1px 2px rgba(0, 0, 0, 0.3));\n",
              "        fill: #FFFFFF;\n",
              "      }\n",
              "    </style>\n",
              "    <button class=\"colab-df-generate\" onclick=\"generateWithVariable('df')\"\n",
              "            title=\"Generate code using this dataframe.\"\n",
              "            style=\"display:none;\">\n",
              "\n",
              "  <svg xmlns=\"http://www.w3.org/2000/svg\" height=\"24px\"viewBox=\"0 0 24 24\"\n",
              "       width=\"24px\">\n",
              "    <path d=\"M7,19H8.4L18.45,9,17,7.55,7,17.6ZM5,21V16.75L18.45,3.32a2,2,0,0,1,2.83,0l1.4,1.43a1.91,1.91,0,0,1,.58,1.4,1.91,1.91,0,0,1-.58,1.4L9.25,21ZM18.45,9,17,7.55Zm-12,3A5.31,5.31,0,0,0,4.9,8.1,5.31,5.31,0,0,0,1,6.5,5.31,5.31,0,0,0,4.9,4.9,5.31,5.31,0,0,0,6.5,1,5.31,5.31,0,0,0,8.1,4.9,5.31,5.31,0,0,0,12,6.5,5.46,5.46,0,0,0,6.5,12Z\"/>\n",
              "  </svg>\n",
              "    </button>\n",
              "    <script>\n",
              "      (() => {\n",
              "      const buttonEl =\n",
              "        document.querySelector('#id_272fa65c-a951-49d0-8f22-e7cac5363f72 button.colab-df-generate');\n",
              "      buttonEl.style.display =\n",
              "        google.colab.kernel.accessAllowed ? 'block' : 'none';\n",
              "\n",
              "      buttonEl.onclick = () => {\n",
              "        google.colab.notebook.generateWithVariable('df');\n",
              "      }\n",
              "      })();\n",
              "    </script>\n",
              "  </div>\n",
              "\n",
              "    </div>\n",
              "  </div>\n"
            ],
            "application/vnd.google.colaboratory.intrinsic+json": {
              "type": "dataframe",
              "variable_name": "df",
              "summary": "{\n  \"name\": \"df\",\n  \"rows\": 1034,\n  \"fields\": [\n    {\n      \"column\": \"Name\",\n      \"properties\": {\n        \"dtype\": \"string\",\n        \"num_unique_values\": 1032,\n        \"samples\": [\n          \"Julio_Lugo\",\n          \"Orlando_Cabrera\",\n          \"Josh_Paul\"\n        ],\n        \"semantic_type\": \"\",\n        \"description\": \"\"\n      }\n    },\n    {\n      \"column\": \"Team\",\n      \"properties\": {\n        \"dtype\": \"category\",\n        \"num_unique_values\": 30,\n        \"samples\": [\n          \"PIT\",\n          \"CHC\",\n          \"PHI\"\n        ],\n        \"semantic_type\": \"\",\n        \"description\": \"\"\n      }\n    },\n    {\n      \"column\": \"Role\",\n      \"properties\": {\n        \"dtype\": \"category\",\n        \"num_unique_values\": 9,\n        \"samples\": [\n          \"Starting_Pitcher\",\n          \"First_Baseman\",\n          \"Outfielder\"\n        ],\n        \"semantic_type\": \"\",\n        \"description\": \"\"\n      }\n    },\n    {\n      \"column\": \"Height\",\n      \"properties\": {\n        \"dtype\": \"number\",\n        \"std\": 2,\n        \"min\": 67,\n        \"max\": 83,\n        \"num_unique_values\": 17,\n        \"samples\": [\n          74,\n          72,\n          76\n        ],\n        \"semantic_type\": \"\",\n        \"description\": \"\"\n      }\n    },\n    {\n      \"column\": \"Weight\",\n      \"properties\": {\n        \"dtype\": \"number\",\n        \"std\": 20.99149077154967,\n        \"min\": 150.0,\n        \"max\": 290.0,\n        \"num_unique_values\": 89,\n        \"samples\": [\n          204.0,\n          278.0,\n          260.0\n        ],\n        \"semantic_type\": \"\",\n        \"description\": \"\"\n      }\n    },\n    {\n      \"column\": \"Age\",\n      \"properties\": {\n        \"dtype\": \"number\",\n        \"std\": 4.320310037379981,\n        \"min\": 20.9,\n        \"max\": 48.52,\n        \"num_unique_values\": 725,\n        \"samples\": [\n          22.78,\n          27.49,\n          25.54\n        ],\n        \"semantic_type\": \"\",\n        \"description\": \"\"\n      }\n    }\n  ]\n}"
            }
          },
          "metadata": {},
          "execution_count": 10
        }
      ],
      "source": [
        "url = 'https://raw.githubusercontent.com/microsoft/Data-Science-For-Beginners/main/data/SOCR_MLB.tsv'\n",
        "df = pd.read_csv(url ,sep='\\t', header=None, names=['Name','Team','Role','Height','Weight','Age'])\n",
        "df"
      ]
    },
    {
      "cell_type": "markdown",
      "metadata": {
        "id": "0wW7Sb1fWEBD"
      },
      "source": [
        "> We are using a package called [**Pandas**](https://pandas.pydata.org/) here for data analysis. We will talk more about Pandas and working with data in Python later in this course.\n",
        "\n",
        "Let's compute average values for age, height and weight:"
      ]
    },
    {
      "cell_type": "code",
      "execution_count": 11,
      "metadata": {
        "colab": {
          "base_uri": "https://localhost:8080/",
          "height": 178
        },
        "id": "qAeXDw0LWEBE",
        "outputId": "e264da99-b80f-42ab-c74c-3c04ed33637b"
      },
      "outputs": [
        {
          "output_type": "execute_result",
          "data": {
            "text/plain": [
              "Age        28.736712\n",
              "Height     73.697292\n",
              "Weight    201.689255\n",
              "dtype: float64"
            ],
            "text/html": [
              "<div>\n",
              "<style scoped>\n",
              "    .dataframe tbody tr th:only-of-type {\n",
              "        vertical-align: middle;\n",
              "    }\n",
              "\n",
              "    .dataframe tbody tr th {\n",
              "        vertical-align: top;\n",
              "    }\n",
              "\n",
              "    .dataframe thead th {\n",
              "        text-align: right;\n",
              "    }\n",
              "</style>\n",
              "<table border=\"1\" class=\"dataframe\">\n",
              "  <thead>\n",
              "    <tr style=\"text-align: right;\">\n",
              "      <th></th>\n",
              "      <th>0</th>\n",
              "    </tr>\n",
              "  </thead>\n",
              "  <tbody>\n",
              "    <tr>\n",
              "      <th>Age</th>\n",
              "      <td>28.736712</td>\n",
              "    </tr>\n",
              "    <tr>\n",
              "      <th>Height</th>\n",
              "      <td>73.697292</td>\n",
              "    </tr>\n",
              "    <tr>\n",
              "      <th>Weight</th>\n",
              "      <td>201.689255</td>\n",
              "    </tr>\n",
              "  </tbody>\n",
              "</table>\n",
              "</div><br><label><b>dtype:</b> float64</label>"
            ]
          },
          "metadata": {},
          "execution_count": 11
        }
      ],
      "source": [
        "df[['Age','Height','Weight']].mean()"
      ]
    },
    {
      "cell_type": "markdown",
      "metadata": {
        "id": "zDhm3EhQWEBE"
      },
      "source": [
        "Now let's focus on height, and compute standard deviation and variance:"
      ]
    },
    {
      "cell_type": "code",
      "execution_count": 12,
      "metadata": {
        "colab": {
          "base_uri": "https://localhost:8080/"
        },
        "id": "HzegaxpaWEBE",
        "outputId": "c929f0bf-86c6-447f-de5e-bb4bf1baa4dd"
      },
      "outputs": [
        {
          "output_type": "stream",
          "name": "stdout",
          "text": [
            "[74, 74, 72, 72, 73, 69, 69, 71, 76, 71, 73, 73, 74, 74, 69, 70, 72, 73, 75, 78]\n"
          ]
        }
      ],
      "source": [
        "print(list(df['Height'])[:20])"
      ]
    },
    {
      "cell_type": "code",
      "execution_count": 15,
      "metadata": {
        "colab": {
          "base_uri": "https://localhost:8080/"
        },
        "id": "YUvIlcP4WEBE",
        "outputId": "cfc74d22-3362-45ff-c9c3-d93b90ec35b0"
      },
      "outputs": [
        {
          "output_type": "stream",
          "name": "stdout",
          "text": [
            "Mean = 73.6972920696325\n",
            "Variance = 5.316798081118074\n",
            "Standard Deviation = 2.3058183105175645\n",
            "Median = 74.0\n"
          ]
        }
      ],
      "source": [
        "mean = df['Height'].mean()\n",
        "var = df['Height'].var()\n",
        "std = df['Height'].std()\n",
        "median = df['Height'].median()\n",
        "print(f\"Mean = {mean}\\nVariance = {var}\\nStandard Deviation = {std}\\nMedian = {median}\")"
      ]
    },
    {
      "cell_type": "markdown",
      "metadata": {
        "id": "ICajUtGfWEBE"
      },
      "source": [
        "In addition to mean, it makes sense to look at the median value and quartiles. They can be visualized using a **box plot**:"
      ]
    },
    {
      "cell_type": "code",
      "execution_count": 14,
      "metadata": {
        "colab": {
          "base_uri": "https://localhost:8080/",
          "height": 207
        },
        "id": "SDN9uRpXWEBF",
        "outputId": "7623b974-6bae-4905-a514-092912c9b595"
      },
      "outputs": [
        {
          "output_type": "display_data",
          "data": {
            "text/plain": [
              "<Figure size 1000x200 with 1 Axes>"
            ],
            "image/png": "[encoded data removed]"
          },
          "metadata": {}
        }
      ],
      "source": [
        "plt.figure(figsize=(10,2))\n",
        "plt.boxplot(df['Height'], vert=False, showmeans=True)\n",
        "plt.grid(color='gray', linestyle='dotted')\n",
        "plt.tight_layout()\n",
        "plt.show()"
      ]
    },
    {
      "cell_type": "markdown",
      "metadata": {
        "id": "82YzOxkaWEBF"
      },
      "source": [
        "We can also make box plots of subsets of our dataset, for example, grouped by player role."
      ]
    },
    {
      "cell_type": "code",
      "execution_count": 16,
      "metadata": {
        "colab": {
          "base_uri": "https://localhost:8080/",
          "height": 806
        },
        "id": "S4ENKbeFWEBF",
        "outputId": "8fec08a0-008d-4073-d1d9-2d5efff4b428"
      },
      "outputs": [
        {
          "output_type": "display_data",
          "data": {
            "text/plain": [
              "<Figure size 1000x800 with 1 Axes>"
            ],
            "image/png": "[encoded data removed]"
          },
          "metadata": {}
        }
      ],
      "source": [
        "df.boxplot(column='Height', by='Role', figsize=(10,8))\n",
        "plt.xticks(rotation='vertical')\n",
        "plt.tight_layout()\n",
        "plt.show()"
      ]
    },
    {
      "cell_type": "markdown",
      "metadata": {
        "id": "Q1p1FGjvWEBF"
      },
      "source": [
        "> **Note**: This diagram suggests, that on average, the heights of first basemen are higher than heights of second basemen. Later we will learn how we can test this hypothesis more formally, and how to demonstrate that our data is statistically significant to show that.  \n",
        "\n",
        "Age, height and weight are all continuous random variables. What do you think their distribution is? A good way to find out is to plot the histogram of values:"
      ]
    },
    {
      "cell_type": "code",
      "execution_count": 17,
      "metadata": {
        "colab": {
          "base_uri": "https://localhost:8080/",
          "height": 609
        },
        "id": "2m_0kVlUWEBF",
        "outputId": "ec356a07-8c8f-4d96-f518-b3c4314d2c0a"
      },
      "outputs": [
        {
          "output_type": "display_data",
          "data": {
            "text/plain": [
              "<Figure size 1000x600 with 1 Axes>"
            ],
            "image/png": "[encoded data removed]"
          },
          "metadata": {}
        }
      ],
      "source": [
        "df['Weight'].hist(bins=15, figsize=(10,6))\n",
        "plt.suptitle('Weight distribution of MLB Players')\n",
        "plt.xlabel('Weight')\n",
        "plt.ylabel('Count')\n",
        "plt.tight_layout()\n",
        "plt.show()"
      ]
    },
    {
      "cell_type": "markdown",
      "metadata": {
        "id": "y7iLct7lWEBG"
      },
      "source": [
        "## Normal Distribution\n",
        "\n",
        "Let's create an artificial sample of weights that follows a normal distribution with the same mean and variance as our real data:"
      ]
    },
    {
      "cell_type": "code",
      "execution_count": 18,
      "metadata": {
        "colab": {
          "base_uri": "https://localhost:8080/"
        },
        "id": "kSr2HMr_WEBG",
        "outputId": "d7db0d31-9392-49be-8a42-086144e52606"
      },
      "outputs": [
        {
          "output_type": "execute_result",
          "data": {
            "text/plain": [
              "array([75.27422502, 72.11191543, 76.51943231, 73.21654008, 76.28445099,\n",
              "       70.66776052, 76.07391683, 73.80779974, 75.03665585, 74.20739734,\n",
              "       72.15990495, 72.02224084, 74.89270587, 75.53647096, 76.50146435,\n",
              "       78.42604759, 73.92425162, 71.86682208, 74.189662  , 71.07265523])"
            ]
          },
          "metadata": {},
          "execution_count": 18
        }
      ],
      "source": [
        "generated = np.random.normal(mean, std, 1000)\n",
        "generated[:20]"
      ]
    },
    {
      "cell_type": "code",
      "execution_count": 19,
      "metadata": {
        "colab": {
          "base_uri": "https://localhost:8080/",
          "height": 607
        },
        "id": "yUxIKY81WEBG",
        "outputId": "7f0548de-e75a-4e2e-dd9d-74f1f67938a0"
      },
      "outputs": [
        {
          "output_type": "display_data",
          "data": {
            "text/plain": [
              "<Figure size 1000x600 with 1 Axes>"
            ],
            "image/png": "[encoded data removed]"
          },
          "metadata": {}
        }
      ],
      "source": [
        "plt.figure(figsize=(10,6))\n",
        "plt.hist(generated, bins=15)\n",
        "plt.tight_layout()\n",
        "plt.show()"
      ]
    },
    {
      "cell_type": "code",
      "execution_count": 20,
      "metadata": {
        "colab": {
          "base_uri": "https://localhost:8080/",
          "height": 607
        },
        "id": "QPnNqbhqWEBH",
        "outputId": "9594f3a9-79ce-490c-b975-05becab057f1"
      },
      "outputs": [
        {
          "output_type": "display_data",
          "data": {
            "text/plain": [
              "<Figure size 1000x600 with 1 Axes>"
            ],
            "image/png": "[encoded data removed]"
          },
          "metadata": {}
        }
      ],
      "source": [
        "plt.figure(figsize=(10,6))\n",
        "plt.hist(np.random.normal(0,1,50000), bins=300)\n",
        "plt.tight_layout()\n",
        "plt.show()"
      ]
    },
    {
      "cell_type": "markdown",
      "metadata": {
        "id": "VBedQ2O1WEBH"
      },
      "source": [
        "Since most values in real life are normally distributed, we should not use a uniform random number generator to generate sample data. Here is what happens if we try to generate weights with a uniform distribution (generated by `np.random.rand`):"
      ]
    },
    {
      "cell_type": "code",
      "execution_count": 21,
      "metadata": {
        "colab": {
          "base_uri": "https://localhost:8080/",
          "height": 607
        },
        "id": "nOx7wDBtWEBH",
        "outputId": "217cbe10-486a-4e4c-e15b-82a87a9561a3"
      },
      "outputs": [
        {
          "output_type": "display_data",
          "data": {
            "text/plain": [
              "<Figure size 1000x600 with 1 Axes>"
            ],
            "image/png": "[encoded data removed]"
          },
          "metadata": {}
        }
      ],
      "source": [
        "wrong_sample = np.random.rand(1000)*2*std+mean-std\n",
        "plt.figure(figsize=(10,6))\n",
        "plt.hist(wrong_sample)\n",
        "plt.tight_layout()\n",
        "plt.show()"
      ]
    },
    {
      "cell_type": "markdown",
      "metadata": {
        "id": "-ds3_1ViWEBH"
      },
      "source": [
        "## Confidence Intervals\n",
        "\n",
        "Let's now calculate confidence intervals for the weights and heights of baseball players. We will use the code [from this stackoverflow discussion](https://stackoverflow.com/questions/15033511/compute-a-confidence-interval-from-sample-data):"
      ]
    },
    {
      "cell_type": "code",
      "execution_count": 25,
      "metadata": {
        "colab": {
          "base_uri": "https://localhost:8080/"
        },
        "id": "Yj9VGXH2WEBH",
        "outputId": "0cd17700-ad43-4e81-875d-d397810e0956"
      },
      "outputs": [
        {
          "output_type": "stream",
          "name": "stdout",
          "text": [
            "For weights:\n",
            "\n",
            "Confidence = 0.85, Mean Weight = 201.73 ± 0.94\n",
            "Confidence = 0.90, Mean Weight = 201.73 ± 1.08\n",
            "Confidence = 0.95, Mean Weight = 201.73 ± 1.28\n",
            "For heights:\n",
            "\n",
            "Confidence = 0.85, Mean Height = 73.70 ± 0.10\n",
            "Confidence = 0.90, Mean Height = 73.70 ± 0.12\n",
            "Confidence = 0.95, Mean Height = 73.70 ± 0.14\n"
          ]
        },
        {
          "output_type": "stream",
          "name": "stderr",
          "text": [
            "<ipython-input-25-2d60426576a2>:13: FutureWarning: Series.fillna with 'method' is deprecated and will raise in a future version. Use obj.ffill() or obj.bfill() instead.\n",
            "  m, h = mean_confidence_interval(df['Weight'].fillna(method='pad'), p)\n"
          ]
        }
      ],
      "source": [
        "import scipy.stats\n",
        "\n",
        "def mean_confidence_interval(data, confidence=0.95):\n",
        "    a = 1.0 * np.array(data)\n",
        "    n = len(a)\n",
        "    m, se = np.mean(a), scipy.stats.sem(a)\n",
        "    h = se * scipy.stats.t.ppf((1 + confidence) / 2., n-1)\n",
        "    return m, h\n",
        "\n",
        "# For weights\n",
        "print(f\"For weights:\\n\")\n",
        "for p in [0.85, 0.9, 0.95]:\n",
        "    m, h = mean_confidence_interval(df['Weight'].fillna(method='pad'), p)\n",
        "    print(f\"Confidence = {p:.2f}, Mean Weight = {m:.2f} ± {h:.2f}\")\n",
        "\n",
        "# For heights\n",
        "print(f\"For heights:\\n\")\n",
        "for p in [0.85, 0.9, 0.95]:\n",
        "    m, h = mean_confidence_interval(df['Height'], p)\n",
        "    print(f\"Confidence = {p:.2f}, Mean Height = {m:.2f} ± {h:.2f}\")"
      ]
    },
    {
      "cell_type": "markdown",
      "metadata": {
        "id": "cq8q8EZOWEBH"
      },
      "source": [
        "## Hypothesis Testing\n",
        "\n",
        "Let's explore different roles in our baseball players dataset:"
      ]
    },
    {
      "cell_type": "code",
      "execution_count": null,
      "metadata": {
        "id": "lXUk-CPHWEBH",
        "outputId": "3c211cf4-f580-4c25-b61d-b82bc55ef77b"
      },
      "outputs": [
        {
          "data": {
            "text/html": [
              "<div>\n",
              "<style scoped>\n",
              "    .dataframe tbody tr th:only-of-type {\n",
              "        vertical-align: middle;\n",
              "    }\n",
              "\n",
              "    .dataframe tbody tr th {\n",
              "        vertical-align: top;\n",
              "    }\n",
              "\n",
              "    .dataframe thead th {\n",
              "        text-align: right;\n",
              "    }\n",
              "</style>\n",
              "<table border=\"1\" class=\"dataframe\">\n",
              "  <thead>\n",
              "    <tr style=\"text-align: right;\">\n",
              "      <th></th>\n",
              "      <th>Height</th>\n",
              "      <th>Weight</th>\n",
              "      <th>Count</th>\n",
              "    </tr>\n",
              "    <tr>\n",
              "      <th>Role</th>\n",
              "      <th></th>\n",
              "      <th></th>\n",
              "      <th></th>\n",
              "    </tr>\n",
              "  </thead>\n",
              "  <tbody>\n",
              "    <tr>\n",
              "      <th>Catcher</th>\n",
              "      <td>72.723684</td>\n",
              "      <td>204.328947</td>\n",
              "      <td>76</td>\n",
              "    </tr>\n",
              "    <tr>\n",
              "      <th>Designated_Hitter</th>\n",
              "      <td>74.222222</td>\n",
              "      <td>220.888889</td>\n",
              "      <td>18</td>\n",
              "    </tr>\n",
              "    <tr>\n",
              "      <th>First_Baseman</th>\n",
              "      <td>74.000000</td>\n",
              "      <td>213.109091</td>\n",
              "      <td>55</td>\n",
              "    </tr>\n",
              "    <tr>\n",
              "      <th>Outfielder</th>\n",
              "      <td>73.010309</td>\n",
              "      <td>199.113402</td>\n",
              "      <td>194</td>\n",
              "    </tr>\n",
              "    <tr>\n",
              "      <th>Relief_Pitcher</th>\n",
              "      <td>74.374603</td>\n",
              "      <td>203.517460</td>\n",
              "      <td>315</td>\n",
              "    </tr>\n",
              "    <tr>\n",
              "      <th>Second_Baseman</th>\n",
              "      <td>71.362069</td>\n",
              "      <td>184.344828</td>\n",
              "      <td>58</td>\n",
              "    </tr>\n",
              "    <tr>\n",
              "      <th>Shortstop</th>\n",
              "      <td>71.903846</td>\n",
              "      <td>182.923077</td>\n",
              "      <td>52</td>\n",
              "    </tr>\n",
              "    <tr>\n",
              "      <th>Starting_Pitcher</th>\n",
              "      <td>74.719457</td>\n",
              "      <td>205.163636</td>\n",
              "      <td>221</td>\n",
              "    </tr>\n",
              "    <tr>\n",
              "      <th>Third_Baseman</th>\n",
              "      <td>73.044444</td>\n",
              "      <td>200.955556</td>\n",
              "      <td>45</td>\n",
              "    </tr>\n",
              "  </tbody>\n",
              "</table>\n",
              "</div>"
            ],
            "text/plain": [
              "                      Height      Weight  Count\n",
              "Role                                           \n",
              "Catcher            72.723684  204.328947     76\n",
              "Designated_Hitter  74.222222  220.888889     18\n",
              "First_Baseman      74.000000  213.109091     55\n",
              "Outfielder         73.010309  199.113402    194\n",
              "Relief_Pitcher     74.374603  203.517460    315\n",
              "Second_Baseman     71.362069  184.344828     58\n",
              "Shortstop          71.903846  182.923077     52\n",
              "Starting_Pitcher   74.719457  205.163636    221\n",
              "Third_Baseman      73.044444  200.955556     45"
            ]
          },
          "execution_count": 16,
          "metadata": {},
          "output_type": "execute_result"
        }
      ],
      "source": [
        "df.groupby('Role').agg({ 'Height' : 'mean', 'Weight' : 'mean', 'Age' : 'count'}).rename(columns={ 'Age' : 'Count'})"
      ]
    },
    {
      "cell_type": "markdown",
      "metadata": {
        "id": "XVKMTq-cWEBI"
      },
      "source": [
        "Let's test the hypothesis that First Basemen are taller than Second Basemen. The simplest way to do this is to test the confidence intervals:"
      ]
    },
    {
      "cell_type": "code",
      "execution_count": null,
      "metadata": {
        "id": "VkTtecJSWEBI",
        "outputId": "b8bf9807-410f-44a9-bc91-f4ab85231126"
      },
      "outputs": [
        {
          "name": "stdout",
          "output_type": "stream",
          "text": [
            "Conf=0.85, 1st basemen height: 73.62..74.38, 2nd basemen height: 71.04..71.69\n",
            "Conf=0.90, 1st basemen height: 73.56..74.44, 2nd basemen height: 70.99..71.73\n",
            "Conf=0.95, 1st basemen height: 73.47..74.53, 2nd basemen height: 70.92..71.81\n"
          ]
        }
      ],
      "source": [
        "for p in [0.85,0.9,0.95]:\n",
        "    m1, h1 = mean_confidence_interval(df.loc[df['Role']=='First_Baseman',['Height']],p)\n",
        "    m2, h2 = mean_confidence_interval(df.loc[df['Role']=='Second_Baseman',['Height']],p)\n",
        "    print(f'Conf={p:.2f}, 1st basemen height: {m1-h1[0]:.2f}..{m1+h1[0]:.2f}, 2nd basemen height: {m2-h2[0]:.2f}..{m2+h2[0]:.2f}')"
      ]
    },
    {
      "cell_type": "markdown",
      "metadata": {
        "id": "LNhxOD0cWEBI"
      },
      "source": [
        "We can see that the intervals do not overlap.\n",
        "\n",
        "A statistically more correct way to prove the hypothesis is to use a **Student t-test**:"
      ]
    },
    {
      "cell_type": "code",
      "execution_count": null,
      "metadata": {
        "id": "NAMKhguWWEBI",
        "outputId": "f041a5a3-e5de-44eb-e180-5aef204ea45e"
      },
      "outputs": [
        {
          "name": "stdout",
          "output_type": "stream",
          "text": [
            "T-value = 7.65\n",
            "P-value: 9.137321189738925e-12\n"
          ]
        }
      ],
      "source": [
        "from scipy.stats import ttest_ind\n",
        "\n",
        "tval, pval = ttest_ind(df.loc[df['Role']=='First_Baseman',['Height']], df.loc[df['Role']=='Second_Baseman',['Height']],equal_var=False)\n",
        "print(f\"T-value = {tval[0]:.2f}\\nP-value: {pval[0]}\")"
      ]
    },
    {
      "cell_type": "markdown",
      "metadata": {
        "id": "PKLmA0OPWEBJ"
      },
      "source": [
        "The two values returned by the `ttest_ind` function are:\n",
        "* p-value can be considered as the probability of two distributions having the same mean. In our case, it is very low, meaning that there is strong evidence supporting that first basemen are taller.\n",
        "* t-value is the intermediate value of normalized mean difference that is used in the t-test, and it is compared against a threshold value for a given confidence value."
      ]
    },
    {
      "cell_type": "markdown",
      "metadata": {
        "id": "z9PFjROrWEBJ"
      },
      "source": [
        "## Simulating a Normal Distribution with the Central Limit Theorem\n",
        "\n",
        "The pseudo-random generator in Python is designed to give us a uniform distribution. If we want to create a generator for normal distribution, we can use the central limit theorem. To get a normally distributed value we will just compute a mean of a uniform-generated sample."
      ]
    },
    {
      "cell_type": "code",
      "execution_count": null,
      "metadata": {
        "id": "R0Pb4jvsWEBJ",
        "outputId": "812b23de-3a27-43c3-9eab-082144db19f0"
      },
      "outputs": [
        {
          "data": {
            "image/png": "[encoded data removed]",
            "text/plain": [
              "<Figure size 720x432 with 1 Axes>"
            ]
          },
          "metadata": {
            "needs_background": "light"
          },
          "output_type": "display_data"
        }
      ],
      "source": [
        "def normal_random(sample_size=100):\n",
        "    sample = [random.uniform(0,1) for _ in range(sample_size) ]\n",
        "    return sum(sample)/sample_size\n",
        "\n",
        "sample = [normal_random() for _ in range(100)]\n",
        "plt.figure(figsize=(10,6))\n",
        "plt.hist(sample)\n",
        "plt.tight_layout()\n",
        "plt.show()"
      ]
    },
    {
      "cell_type": "markdown",
      "metadata": {
        "id": "s8tr-VhCWEBJ"
      },
      "source": [
        "## Correlation and Evil Baseball Corp\n",
        "\n",
        "Correlation allows us to find relations between data sequences. In our toy example, let's pretend there is an evil baseball corporation that pays its players according to their height - the taller the player is, the more money he/she gets. Suppose there is a base salary of $1000, and an additional bonus from $0 to $100, depending on height. We will take the real players from MLB, and compute their imaginary salaries:"
      ]
    },
    {
      "cell_type": "code",
      "execution_count": null,
      "metadata": {
        "id": "n8GDra36WEBK",
        "outputId": "dbdc62b0-f5a6-4fa4-b573-17c0afc7caa8"
      },
      "outputs": [
        {
          "name": "stdout",
          "output_type": "stream",
          "text": [
            "[(74, 1075.2469071629068), (74, 1075.2469071629068), (72, 1053.7477908306478), (72, 1053.7477908306478), (73, 1064.4973489967772), (69, 1021.4991163322591), (69, 1021.4991163322591), (71, 1042.9982326645181), (76, 1096.746023495166), (71, 1042.9982326645181)]\n"
          ]
        }
      ],
      "source": [
        "heights = df['Height']\n",
        "salaries = 1000+(heights-heights.min())/(heights.max()-heights.mean())*100\n",
        "print(list(zip(heights, salaries))[:10])"
      ]
    },
    {
      "cell_type": "markdown",
      "metadata": {
        "id": "3XRDUFeEWEBK"
      },
      "source": [
        "Let's now compute covariance and correlation of those sequences. `np.cov` will give us a so-called **covariance matrix**, which is an extension of covariance to multiple variables. The element $M_{ij}$ of the covariance matrix $M$ is a correlation between input variables $X_i$ and $X_j$, and diagonal values $M_{ii}$ is the variance of $X_{i}$. Similarly, `np.corrcoef` will give us the **correlation matrix**."
      ]
    },
    {
      "cell_type": "code",
      "execution_count": null,
      "metadata": {
        "id": "_74aHN9sWEBR",
        "outputId": "dc273454-1619-44f8-c84e-9758e155aca9"
      },
      "outputs": [
        {
          "name": "stdout",
          "output_type": "stream",
          "text": [
            "Covariance matrix:\n",
            "[[  5.31679808  57.15323023]\n",
            " [ 57.15323023 614.37197275]]\n",
            "Covariance = 57.153230230544736\n",
            "Correlation = 1.0\n"
          ]
        }
      ],
      "source": [
        "print(f\"Covariance matrix:\\n{np.cov(heights, salaries)}\")\n",
        "print(f\"Covariance = {np.cov(heights, salaries)[0,1]}\")\n",
        "print(f\"Correlation = {np.corrcoef(heights, salaries)[0,1]}\")"
      ]
    },
    {
      "cell_type": "markdown",
      "metadata": {
        "id": "dtoCi8KtWEBS"
      },
      "source": [
        "A correlation equal to 1 means that there is a strong **linear relation** between two variables. We can visually see the linear relation by plotting one value against the other:"
      ]
    },
    {
      "cell_type": "code",
      "execution_count": null,
      "metadata": {
        "id": "b3PAXXptWEBS",
        "outputId": "c78dedd9-0e2e-4d7b-adde-1538481b2dc6"
      },
      "outputs": [
        {
          "data": {
            "image/png": "[encoded data removed]",
            "text/plain": [
              "<Figure size 720x432 with 1 Axes>"
            ]
          },
          "metadata": {
            "needs_background": "light"
          },
          "output_type": "display_data"
        }
      ],
      "source": [
        "plt.figure(figsize=(10,6))\n",
        "plt.scatter(heights,salaries)\n",
        "plt.tight_layout()\n",
        "plt.show()"
      ]
    },
    {
      "cell_type": "markdown",
      "metadata": {
        "id": "YETVX5FhWEBS"
      },
      "source": [
        "Let's see what happens if the relation is not linear. Suppose that our corporation decided to hide the obvious linear dependency between heights and salaries, and introduced some non-linearity into the formula, such as `sin`:"
      ]
    },
    {
      "cell_type": "code",
      "execution_count": null,
      "metadata": {
        "id": "PGXSwa_uWEBS",
        "outputId": "2865e2b3-e60f-4a49-ae69-8e95d284bef5"
      },
      "outputs": [
        {
          "name": "stdout",
          "output_type": "stream",
          "text": [
            "Correlation = 0.9835304456670837\n"
          ]
        }
      ],
      "source": [
        "salaries = 1000+np.sin((heights-heights.min())/(heights.max()-heights.mean()))*100\n",
        "print(f\"Correlation = {np.corrcoef(heights, salaries)[0,1]}\")"
      ]
    },
    {
      "cell_type": "markdown",
      "metadata": {
        "id": "jnvkybMdWEBT"
      },
      "source": [
        "In this case, the correlation is slightly smaller, but it is still quite high. Now, to make the relation even less obvious, we might want to add some extra randomness by adding some random variable to the salary. Let's see what happens:"
      ]
    },
    {
      "cell_type": "code",
      "execution_count": null,
      "metadata": {
        "id": "BesrOuPgWEBT",
        "outputId": "36133652-7fb4-4b11-8246-01b44073c0d5"
      },
      "outputs": [
        {
          "name": "stdout",
          "output_type": "stream",
          "text": [
            "Correlation = 0.9363097848296155\n"
          ]
        }
      ],
      "source": [
        "salaries = 1000+np.sin((heights-heights.min())/(heights.max()-heights.mean()))*100+np.random.random(size=len(heights))*20-10\n",
        "print(f\"Correlation = {np.corrcoef(heights, salaries)[0,1]}\")"
      ]
    },
    {
      "cell_type": "code",
      "execution_count": null,
      "metadata": {
        "id": "xgut_9z8WEBT",
        "outputId": "79ca34eb-9f66-4b39-f900-c801d82ae697"
      },
      "outputs": [
        {
          "data": {
            "image/png": "[encoded data removed]",
            "text/plain": [
              "<Figure size 720x432 with 1 Axes>"
            ]
          },
          "metadata": {
            "needs_background": "light"
          },
          "output_type": "display_data"
        }
      ],
      "source": [
        "plt.figure(figsize=(10,6))\n",
        "plt.scatter(heights, salaries)\n",
        "plt.tight_layout()\n",
        "plt.show()"
      ]
    },
    {
      "cell_type": "markdown",
      "metadata": {
        "id": "SessMfJcWEBU"
      },
      "source": [
        "> Can you guess why the dots line up into vertical lines like this?\n",
        "\n",
        "We have observed the correlation between an artificially engineered concept like salary and the observed variable *height*. Let's also see if the two observed variables, such as height and weight, correlate too:"
      ]
    },
    {
      "cell_type": "code",
      "execution_count": null,
      "metadata": {
        "id": "YRn1XXYjWEBU",
        "outputId": "45769001-e6b2-4558-ac38-58946c8f6e51"
      },
      "outputs": [
        {
          "data": {
            "text/plain": [
              "array([[ 1., nan],\n",
              "       [nan, nan]])"
            ]
          },
          "execution_count": 26,
          "metadata": {},
          "output_type": "execute_result"
        }
      ],
      "source": [
        "np.corrcoef(df['Height'],df['Weight'])"
      ]
    },
    {
      "cell_type": "markdown",
      "metadata": {
        "id": "eut5FD70WEBU"
      },
      "source": [
        "Unfortunately, we did not get any results - only some strange `nan` values. This is due to the fact that some of the values in our series are undefined, represented as `nan`, which causes the result of the operation to be undefined as well. By looking at the matrix we can see that `Weight` is the problematic column, because self-correlation between `Height` values has been computed.\n",
        "\n",
        "> This example shows the importance of **data preparation** and **cleaning**. Without proper data we cannot compute anything.\n",
        "\n",
        "Let's use `fillna` method to fill the missing values, and compute the correlation:"
      ]
    },
    {
      "cell_type": "code",
      "execution_count": null,
      "metadata": {
        "id": "j5mnsjoXWEBU",
        "outputId": "21862d46-eb98-4eaf-bce7-13510a834f5d"
      },
      "outputs": [
        {
          "data": {
            "text/plain": [
              "array([[1.        , 0.52959196],\n",
              "       [0.52959196, 1.        ]])"
            ]
          },
          "execution_count": 27,
          "metadata": {},
          "output_type": "execute_result"
        }
      ],
      "source": [
        "np.corrcoef(df['Height'],df['Weight'].fillna(method='pad'))"
      ]
    },
    {
      "cell_type": "markdown",
      "metadata": {
        "id": "VqWf7BNdWEBV"
      },
      "source": [
        "There is indeed a correlation, but not such a strong one as in our artificial example. Indeed, if we look at the scatter plot of one value against the other, the relation would be much less obvious:"
      ]
    },
    {
      "cell_type": "code",
      "execution_count": null,
      "metadata": {
        "id": "vhXCkOPjWEBV",
        "outputId": "15db6693-5e03-46a9-96e5-ae30d905889c"
      },
      "outputs": [
        {
          "data": {
            "image/png": "[encoded data removed]",
            "text/plain": [
              "<Figure size 720x432 with 1 Axes>"
            ]
          },
          "metadata": {
            "needs_background": "light"
          },
          "output_type": "display_data"
        }
      ],
      "source": [
        "plt.figure(figsize=(10,6))\n",
        "plt.scatter(df['Height'],df['Weight'])\n",
        "plt.xlabel('Height')\n",
        "plt.ylabel('Weight')\n",
        "plt.tight_layout()\n",
        "plt.show()"
      ]
    },
    {
      "cell_type": "markdown",
      "metadata": {
        "id": "E91x_WPRWEBV"
      },
      "source": [
        "## Conclusion\n",
        "\n",
        "In this notebook we have learnt how to perform basic operations on data to compute statistical functions. We now know how to use a sound apparatus of math and statistics in order to prove some hypotheses, and how to compute confidence intervals for arbitrary variables given a data sample."
      ]
    }
  ],
  "metadata": {
    "interpreter": {
      "hash": "86193a1ab0ba47eac1c69c1756090baa3b420b3eea7d4aafab8b85f8b312f0c5"
    },
    "kernelspec": {
      "display_name": "Python 3 (ipykernel)",
      "language": "python",
      "name": "python3"
    },
    "language_info": {
      "codemirror_mode": {
        "name": "ipython",
        "version": 3
      },
      "file_extension": ".py",
      "mimetype": "text/x-python",
      "name": "python",
      "nbconvert_exporter": "python",
      "pygments_lexer": "ipython3",
      "version": "3.8.12"
    },
    "colab": {
      "provenance": []
    }
  },
  "nbformat": 4,
  "nbformat_minor": 0
}